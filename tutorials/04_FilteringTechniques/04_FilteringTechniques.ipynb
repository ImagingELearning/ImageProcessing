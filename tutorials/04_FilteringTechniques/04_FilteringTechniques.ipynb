{
 "cells": [
  {
   "cell_type": "markdown",
   "id": "12ac7644",
   "metadata": {},
   "source": [
    "<p style=\"font-size:2em;padding-bottom: 0.5em; font-weight: bold;\">\n",
    "E-learning course on <br / ><br / >\n",
    "Advanced Neutron Imaging\n",
    "</p> \n",
    "\n",
    "# Filtering techniques\n",
    "Anders Kaestner, Laboratory for Neutron Scattering and Imaging, Paul Scherrer Institut, 2022\n",
    "\n",
    "<img src='../00_common/figures/by-nc-nd.svg' style='height:30px'/>"
   ]
  },
  {
   "cell_type": "markdown",
   "id": "cbc4bdc0",
   "metadata": {},
   "source": [
    "The purpose of a filter is to modify images with the aim to enhance the relevant information. Until now, we have only worked and modified single pixels. With filters we expand our horizons to invole the pixel neighborhood. \n",
    "\n",
    "Traditional filters are based on convolution, more advanced filters use partial differential equations for achive the filtering effect. In this tutorial, we will mainly look at different methods to improve the signal to noise ratio (SNR) and remove outliers which are very common in neutron images. \n",
    "\n",
    "Low SNR is a often returning problem in neutron images due to the low counting statistics for given "
   ]
  },
  {
   "cell_type": "markdown",
   "id": "9fb981c0",
   "metadata": {},
   "source": [
    "### What you will learn in this tutorial\n",
    "- Filter characteristics\n",
    "- Different filter kernels\n",
    "- Filtering in 2D vs 3D\n",
    "- What is the cost of using a filter\n",
    "- Some advanced filters"
   ]
  },
  {
   "cell_type": "markdown",
   "id": "8a2d68cb",
   "metadata": {},
   "source": [
    "### Needed mathematical concepts\n",
    "- Convolution\n",
    "- Noise and signal to noise ratio\n",
    "- Histograms"
   ]
  },
  {
   "cell_type": "code",
   "execution_count": null,
   "id": "db898392",
   "metadata": {
    "ExecuteTime": {
     "end_time": "2022-12-06T16:18:35.581199Z",
     "start_time": "2022-12-06T16:18:35.572623Z"
    }
   },
   "outputs": [],
   "source": [
    "import numpy as np\n",
    "import matplotlib.pyplot as plt\n",
    "from matplotlib.colors import LogNorm\n",
    "import tifffile as tiff\n",
    "import skimage.filters as flt\n",
    "import skimage.morphology as morph\n",
    "from scipy.ndimage import convolve\n",
    "import sys\n",
    "\n",
    "if \"google.colab\" in sys.modules:\n",
    "    # Running on colab we need to download repos from github\n",
    "    !rm -rf scripts\n",
    "    !rm -rf QuantifyingNeutronImages\n",
    "    !git clone https://github.com/ImagingELearning/resolution.git\n",
    "    !git clone https://github.com/neutronimaging/scripts.git\n",
    "    data_path=\"/content/ImageProcessing/tutorials/00_common/data/\"\n",
    "    sys.path.append(\"/content/scripts/python\")\n",
    "else: \n",
    "    # Running locally on your computer\n",
    "    data_path = \"../00_common/data/\"\n",
    "\n",
    "sys.path.append('../00_common/')\n",
    "\n",
    "import readers as rd\n",
    "    "
   ]
  },
  {
   "cell_type": "markdown",
   "id": "aefd767d",
   "metadata": {},
   "source": [
    "## Real measurements are not perfect\n",
    "You only get perfect images if draw them yourself. There is always noise present to some degree in a measurement. There are also different types of artifacts in neutron images like spots, lines and rings. \n",
    "\n",
    "In this tutorial, we will take a look at some filters that help making a confident analysis of the image data."
   ]
  },
  {
   "cell_type": "markdown",
   "id": "f2d18b5e",
   "metadata": {},
   "source": [
    "<img src=\"figures/imperfect_imaging_system.svg\" style=\"width:800px\"/>"
   ]
  },
  {
   "cell_type": "markdown",
   "id": "785f96b4",
   "metadata": {},
   "source": [
    "## The data\n",
    "In this tutorial, we will use a small 3D image from a neutron tomography of a packing of two sizes of copper breads in two layers. The scan time was a bit too short with a low SNR as consequence. We will initially use slices of the volume to later also look into 3D filtering."
   ]
  },
  {
   "cell_type": "code",
   "execution_count": null,
   "id": "3a41e55c",
   "metadata": {
    "ExecuteTime": {
     "end_time": "2022-12-06T16:08:36.119518Z",
     "start_time": "2022-12-06T16:08:36.021821Z"
    }
   },
   "outputs": [],
   "source": [
    "img  = rd.read_images('../00_common/data/beads/beads_{0:04d}.tif',first=0, last=100)\n",
    "vimg = img[:,img.shape[1]//2]"
   ]
  },
  {
   "cell_type": "code",
   "execution_count": null,
   "id": "781199cc",
   "metadata": {
    "ExecuteTime": {
     "end_time": "2022-12-06T16:08:39.244245Z",
     "start_time": "2022-12-06T16:08:38.517281Z"
    },
    "hide_input": true,
    "scrolled": false
   },
   "outputs": [],
   "source": [
    "fig,ax = plt.subplots(2,2,figsize=(12,6))\n",
    "\n",
    "ax=ax.ravel()\n",
    "ax[0].imshow(img[25])\n",
    "ax[0].set_title('XY Slice at 25')\n",
    "ax[1].imshow(img[75])\n",
    "ax[1].set_title('XY Slice at 75')\n",
    "ax[2].imshow(vimg)\n",
    "ax[2].set_title('YX Slice middle section');\n",
    "ax[3].hist(img.ravel(),bins=200);\n",
    "ax[3].set_title('Histgram of the grey-levels');"
   ]
  },
  {
   "cell_type": "markdown",
   "id": "23f4d312",
   "metadata": {},
   "source": [
    "## Filter characteristics\n",
    "Filters are characterized in terms of which information they enhance. Here, we talk about which frequencies pass through the filter and which are blocked.\n",
    "\n",
    "The two main filter types are:\n",
    "- __Low-pass__ filters - keep the slow fluctuations in the image. Mostly, these are the main information in the image. Sharp edges and noise will be reduced, the image is blurred.  \n",
    "- __High-pass__ filters - keep rapid changes in the image. A high pass filtered image show the edges but low gradients are suppressed. A backside of the edge enhancement is that also noise which fluctuate from pixel to pixel seems to be amplified.\n",
    "- __Band-pass__ filters - have a lower and upper cut-off frequency that limits the frequencies passing through the filter to an interval.\n",
    "\n",
    "The figure below shows an image with two frequencies; the low frequencies are slow variations and the high frequencies are the rapid variations."
   ]
  },
  {
   "cell_type": "code",
   "execution_count": null,
   "id": "fd9a74c6",
   "metadata": {
    "ExecuteTime": {
     "end_time": "2022-12-06T16:08:40.762116Z",
     "start_time": "2022-12-06T16:08:40.496273Z"
    },
    "hide_input": true,
    "scrolled": false
   },
   "outputs": [],
   "source": [
    "x,y = np.meshgrid(np.linspace(-np.pi,np.pi,201),np.linspace(-np.pi,np.pi,201))\n",
    "\n",
    "lp = np.sin(x)+np.sin(y)\n",
    "hp = np.sin(30*x)+np.sin(30*y)\n",
    "\n",
    "fig,ax=plt.subplots(1,3,figsize=(15,5))\n",
    "ax[0].imshow(lp+hp)\n",
    "ax[0].set_title('Original image');\n",
    "ax[1].imshow(lp);\n",
    "ax[1].set_title('Low-pass filtered');\n",
    "ax[2].imshow(hp);\n",
    "ax[2].set_title('High-pass filtered');"
   ]
  },
  {
   "cell_type": "markdown",
   "id": "d8f78ea5",
   "metadata": {
    "hide_input": false
   },
   "source": [
    "## Convolution basics and filter kernels\n",
    "Convolution is a fundamental operation in filter theory. It is essentially computing a weighted sum of the pixels in a neighborhood around a pixel. \n",
    "\n",
    "$$(f*h)(x)=\\sum_{i \\in N_f} h(i) \\cdot f(x+i), \\forall x$$\n",
    "\n",
    "where $f$ is the filtered image and $h$ is the so called filter kernel or weight matrix. The weighted sum is repeated for all pixels $x$ in the image.\n",
    "\n",
    "In the 2D case with a symmetric $N\\times N$ kernel, this equation can be rewritten as \n",
    "\n",
    "$$(f*h)(x,y)=\\sum_{i=-N}^N \\sum_{j=-N}^N h(i,j) \\cdot f(x+i,y+j), \\forall x,y$$\n",
    "\n",
    "<img src=\"figures/principle_mean_filter.svg\" style=\"width:500px\"/>\n",
    "\n",
    "The filter module on scikit image provides a collection of filters for different purposes.\n",
    "\n",
    "https://scikit-image.org/docs/stable/api/skimage.filters.html"
   ]
  },
  {
   "cell_type": "markdown",
   "id": "d7982744",
   "metadata": {},
   "source": [
    "Before we start we need a visualization function to show the filter results"
   ]
  },
  {
   "cell_type": "code",
   "execution_count": null,
   "id": "03adf060",
   "metadata": {
    "ExecuteTime": {
     "end_time": "2022-12-06T20:57:45.658542Z",
     "start_time": "2022-12-06T20:57:45.653998Z"
    }
   },
   "outputs": [],
   "source": [
    "def show_result(A,B,name=None,k=1.96) :\n",
    "    if name is None :\n",
    "        name='Filtered'\n",
    "        \n",
    "    fig,ax = plt.subplots(2,2,figsize=(15,10))\n",
    "    ax=ax.ravel()\n",
    "\n",
    "    ax[0].imshow(A)\n",
    "    ax[0].set_title(\"Original\")\n",
    "    ax[1].imshow(B)\n",
    "    ax[1].set_title(name)\n",
    "    d=A-B\n",
    "    m=d.mean()\n",
    "    s=d.std()\n",
    "    ax[2].imshow(A-B,vmin=m-k*s,vmax=m+k*s)\n",
    "    ax[2].set_title('Original - {0}'.format(name))\n",
    "    bins=np.linspace(A.min(),A.max(),100)\n",
    "    ax[3].hist(A.ravel(),bins=bins,alpha=0.5,label='Original')\n",
    "    ax[3].hist(B.ravel(),bins=bins,alpha=0.5,label=name);\n",
    "    ax[3].legend()"
   ]
  },
  {
   "cell_type": "markdown",
   "id": "95d683c0",
   "metadata": {},
   "source": [
    "### The Gauss filter\n",
    "\n",
    "The Gauss filter has a filter kernel based on the 2D Gaussian distribution \n",
    "\n",
    "$$G_{\\sigma}(x,y)=e^{-\\frac{x^2+y^2}{2*\\sigma^2}}$$\n",
    "\n",
    "The filter is one of the first goto types when you want to reduce the image noise"
   ]
  },
  {
   "cell_type": "code",
   "execution_count": null,
   "id": "4303000e",
   "metadata": {
    "ExecuteTime": {
     "end_time": "2022-12-06T20:57:47.647842Z",
     "start_time": "2022-12-06T20:57:47.048691Z"
    },
    "scrolled": false
   },
   "outputs": [],
   "source": [
    "sigma = 1\n",
    "g=flt.gaussian(vimg,sigma=sigma)\n",
    "show_result(vimg,g,'Gaussian')"
   ]
  },
  {
   "cell_type": "markdown",
   "id": "a1dec387",
   "metadata": {},
   "source": [
    "### The median filter"
   ]
  },
  {
   "cell_type": "code",
   "execution_count": null,
   "id": "9d2ac61e",
   "metadata": {
    "ExecuteTime": {
     "end_time": "2022-12-06T20:57:53.801979Z",
     "start_time": "2022-12-06T20:57:53.010777Z"
    },
    "scrolled": false
   },
   "outputs": [],
   "source": [
    "size=5\n",
    "med=flt.median(vimg,morph.disk(size))\n",
    "show_result(vimg,med, \"median\")"
   ]
  },
  {
   "cell_type": "markdown",
   "id": "fcfad6e2",
   "metadata": {},
   "source": [
    "### Kernels with N odd vs. N even\n",
    "It is generally recommended to use filter kernels with an odd number of elements. Let's see why this is recommended on a simplfied example. \n",
    "\n",
    "We create an image $f$ with a square in the middle and apply two uniform filter kernels, all filter weights are the same.\n",
    "\n",
    "$h_3=U_{3\\times 3}$ and $h_4=U_{4\\times 4}$ \n",
    "\n",
    "compute \n",
    "$$f_3 = f * h_3$$\n",
    "\n",
    "and \n",
    "\n",
    "$$f_4 = f * h_4$$"
   ]
  },
  {
   "cell_type": "code",
   "execution_count": null,
   "id": "b35b05e7",
   "metadata": {
    "ExecuteTime": {
     "end_time": "2022-12-06T20:57:54.974023Z",
     "start_time": "2022-12-06T20:57:54.970993Z"
    }
   },
   "outputs": [],
   "source": [
    "timg = np.zeros([25,25])\n",
    "timg[5:20,5:20]=1.0\n",
    "\n",
    "h3=np.ones([3,3])/9.0\n",
    "v3=convolve(timg,h3)\n",
    "\n",
    "h4=np.ones([4,4])/16\n",
    "v4=convolve(timg,h4)"
   ]
  },
  {
   "cell_type": "code",
   "execution_count": null,
   "id": "a3996d6a",
   "metadata": {
    "ExecuteTime": {
     "end_time": "2022-12-06T20:57:55.580942Z",
     "start_time": "2022-12-06T20:57:55.440363Z"
    },
    "hide_input": true,
    "scrolled": true
   },
   "outputs": [],
   "source": [
    "fig,ax = plt.subplots(1,2,figsize=(12,5))\n",
    "ax=ax.ravel()\n",
    "ax[0].imshow(v3)\n",
    "ax[0].set_title(r'$3\\times 3$');\n",
    "ax[1].imshow(v4);\n",
    "ax[1].set_title(r'$4\\times 4$');"
   ]
  },
  {
   "cell_type": "markdown",
   "id": "cb39ea23",
   "metadata": {},
   "source": [
    "At first glance, this looks fully ok. Now if we show the difference between original and filtered for the two cases."
   ]
  },
  {
   "cell_type": "code",
   "execution_count": null,
   "id": "cb2fae35",
   "metadata": {
    "ExecuteTime": {
     "end_time": "2022-12-06T20:57:56.408130Z",
     "start_time": "2022-12-06T20:57:56.262087Z"
    },
    "hide_input": true,
    "scrolled": false
   },
   "outputs": [],
   "source": [
    "fig,ax = plt.subplots(1,2,figsize=(12,5))\n",
    "ax=ax.ravel()\n",
    "ax[0].imshow(timg-v3)\n",
    "ax[0].set_title(r'$f-f*h_3$')\n",
    "ax[1].imshow(timg-v4)\n",
    "ax[1].set_title(r'$f-f*h_4$');"
   ]
  },
  {
   "cell_type": "markdown",
   "id": "8255ba51",
   "metadata": {},
   "source": [
    "The reason for this difference is that the kernel is applied asymmetrically on the neighborhood in the $N$ even case. This leads to a shift of the image that is undesireable."
   ]
  },
  {
   "cell_type": "code",
   "execution_count": null,
   "id": "b511b4a5",
   "metadata": {
    "ExecuteTime": {
     "end_time": "2022-12-06T20:57:57.221864Z",
     "start_time": "2022-12-06T20:57:57.117348Z"
    },
    "hide_input": true
   },
   "outputs": [],
   "source": [
    "a=np.zeros([3,3])\n",
    "a[1,1]=1\n",
    "b=np.zeros([4,4])\n",
    "b[2,2]=1\n",
    "\n",
    "fig,ax= plt.subplots(1,2,figsize=(10,4))\n",
    "ax[0].imshow(a,cmap='gray')\n",
    "ax[0].set_xticks(np.arange(-.5, 3, 1))\n",
    "ax[0].set_yticks(np.arange(-.5, 3, 1))\n",
    "ax[0].set_xticklabels([])\n",
    "ax[0].set_yticklabels([])\n",
    "ax[0].grid(color='red', linestyle='-.', linewidth=2)\n",
    "ax[0].set_title(r'$3 \\times 3$ kernel')\n",
    "\n",
    "ax[1].imshow(b,cmap='gray')\n",
    "ax[1].set_xticks(np.arange(-.5, 4, 1))\n",
    "ax[1].set_yticks(np.arange(-.5, 4, 1))\n",
    "ax[1].set_xticklabels([])\n",
    "ax[1].set_yticklabels([])\n",
    "ax[1].grid(color='red', linestyle='-.', linewidth=2)\n",
    "ax[1].set_title(r'$4 \\times 4$ kernel');"
   ]
  },
  {
   "cell_type": "markdown",
   "id": "e485a9e0",
   "metadata": {},
   "source": [
    "## Application of filters - basic spot cleaning\n",
    "One of the first artefacs you notice in neutron images are the spots. These are small outliers in the data with high intensity compared to the neighbor pixels. They are caused by gamma photon hitting the detector and thus leave a very intense response on the image. \n",
    "\n",
    "The figure below shows an example of some spot. They are as you can see not always perfect dots, but it could even be line traces."
   ]
  },
  {
   "cell_type": "markdown",
   "id": "9ed51406",
   "metadata": {},
   "source": [
    "<img src='figures/spotty_knot_closeup.png' style='width:400px'/>"
   ]
  },
  {
   "cell_type": "markdown",
   "id": "517bfc8e",
   "metadata": {},
   "source": [
    "The spots may look harmless in the radiograph. You can just rescale the display intervals. The do however have great impact on the reconstructed slices in tomography."
   ]
  },
  {
   "cell_type": "markdown",
   "id": "607f0498",
   "metadata": {},
   "source": [
    "### Let's see what we can do"
   ]
  },
  {
   "cell_type": "code",
   "execution_count": null,
   "id": "dfbeab87",
   "metadata": {
    "ExecuteTime": {
     "end_time": "2022-12-06T20:58:00.058201Z",
     "start_time": "2022-12-06T20:58:00.053224Z"
    }
   },
   "outputs": [],
   "source": [
    "spots = rd.read_image('../00_common/data/spotimage.tif')"
   ]
  },
  {
   "cell_type": "code",
   "execution_count": null,
   "id": "b859a5e2",
   "metadata": {
    "ExecuteTime": {
     "end_time": "2022-12-06T20:58:01.351039Z",
     "start_time": "2022-12-06T20:58:01.065615Z"
    },
    "scrolled": true
   },
   "outputs": [],
   "source": [
    "fig,ax=plt.subplots(1,2,figsize=(15,6))\n",
    "ax[0].imshow(spots)\n",
    "ax[0].set_title('Full dynamics')\n",
    "ax[1].imshow(spots,vmin=300,vmax=3000)\n",
    "ax[1].set_title('Adjusted dynamics');"
   ]
  },
  {
   "cell_type": "markdown",
   "id": "cc410f11",
   "metadata": {},
   "source": [
    "### Methods to remove the spots\n",
    "Spots are very localized rapid changes in the image data. This leads us in the direction of using a low-pass filter.\n",
    "The options would be to use \n",
    "- Convolution filters with a Gauss or box kernel\n",
    "- A median filter\n",
    "\n",
    "These methods are however not ideal as they smooth the whole image regardless of outliers or not. "
   ]
  },
  {
   "cell_type": "markdown",
   "id": "2764cdaf",
   "metadata": {},
   "source": [
    "#### Let's try a median filter\n",
    "The median filter is good at suppressing outliers"
   ]
  },
  {
   "cell_type": "code",
   "execution_count": null,
   "id": "0738b60c",
   "metadata": {
    "ExecuteTime": {
     "end_time": "2022-12-06T20:58:03.879153Z",
     "start_time": "2022-12-06T20:58:02.843245Z"
    }
   },
   "outputs": [],
   "source": [
    "size=3\n",
    "clean = flt.median(spots,np.ones((size,size))) \n",
    "\n",
    "show_result(spots,clean,'Median',k=1)"
   ]
  },
  {
   "cell_type": "markdown",
   "id": "9ef28505",
   "metadata": {},
   "source": [
    "Looks good on first sight, but what if we tune the display interval a bit? \n",
    "\n",
    "Change the _k_ parameter to 0.1. What do you see?"
   ]
  },
  {
   "cell_type": "markdown",
   "id": "da04b402",
   "metadata": {},
   "source": [
    "### A spot removal algorithm\n",
    "A better choice is to work with a detect and replace concept that only targets the outlier spots. "
   ]
  },
  {
   "cell_type": "markdown",
   "id": "02f87505",
   "metadata": {},
   "source": [
    "<img src='figures/spotclean_algorithm.svg' style='width:600px'/>"
   ]
  },
  {
   "cell_type": "code",
   "execution_count": null,
   "id": "06234d6e",
   "metadata": {
    "ExecuteTime": {
     "end_time": "2022-12-06T20:58:36.102019Z",
     "start_time": "2022-12-06T20:58:36.099328Z"
    }
   },
   "outputs": [],
   "source": [
    "def spot_clean(img,threshold,footprint) :\n",
    "    mimg = flt.median(img,footprint)\n",
    "    dimg = np.abs(img-mimg)\n",
    "    \n",
    "    mask = threshold<dimg \n",
    "\n",
    "    # option 1\n",
    "    cleaned = mask * mimg + (1-mask) * img\n",
    "    \n",
    "    # option 2\n",
    "#     cleaned       = img.copy()\n",
    "#     cleaned[mask] = mimg[mask]\n",
    "    \n",
    "    return cleaned\n"
   ]
  },
  {
   "cell_type": "code",
   "execution_count": null,
   "id": "9d1bb1f6",
   "metadata": {
    "ExecuteTime": {
     "end_time": "2022-12-06T20:58:38.509847Z",
     "start_time": "2022-12-06T20:58:37.201405Z"
    }
   },
   "outputs": [],
   "source": [
    "cleaned = spot_clean(spots,100,np.ones((5,5)))\n",
    "\n",
    "show_result(spots,cleaned,'Cleaned',k=0.1)"
   ]
  },
  {
   "cell_type": "markdown",
   "id": "f74c1137",
   "metadata": {},
   "source": [
    "How does it perform? Again try changing the _k_ to the same value you used for the median filter.\n",
    "\n",
    "- Is it good? \n",
    "- Can you improve the performance? How?"
   ]
  },
  {
   "cell_type": "markdown",
   "id": "e0ff44e8",
   "metadata": {},
   "source": [
    "## Filtering in 2D vs 3D"
   ]
  },
  {
   "cell_type": "markdown",
   "id": "9fe39047",
   "metadata": {},
   "source": [
    "## The cost of filtering"
   ]
  },
  {
   "cell_type": "code",
   "execution_count": null,
   "id": "4de6d2c7",
   "metadata": {
    "ExecuteTime": {
     "end_time": "2022-12-06T20:53:05.468851Z",
     "start_time": "2022-12-06T20:53:05.381033Z"
    }
   },
   "outputs": [],
   "source": [
    "x,y = np.meshgrid(np.linspace(-1,1,201),np.linspace(-1,1,201))\n",
    "x = np.concatenate((x,x),axis=1)\n",
    "y = np.concatenate((y,y),axis=1)\n",
    "R = np.sqrt(x**2+y**2)<0.995\n",
    "plt.imshow(R,interpolation='none');"
   ]
  },
  {
   "cell_type": "code",
   "execution_count": null,
   "id": "7b824c32",
   "metadata": {
    "ExecuteTime": {
     "end_time": "2022-12-06T20:53:06.947308Z",
     "start_time": "2022-12-06T20:53:06.302898Z"
    }
   },
   "outputs": [],
   "source": [
    "fig,ax=plt.subplots(3,4,figsize=(15,8))\n",
    "\n",
    "sigmas = [0.5,1,2,4]\n",
    "for idx,sigma in enumerate(sigmas) :\n",
    "    g=flt.gaussian(R,sigma=sigma)\n",
    "    ax[0,idx].imshow(g,interpolation='none')\n",
    "    ax[0,idx].vlines([201],ymin=0,ymax=g.shape[0]-1,color='lightblue',lw=2)\n",
    "    ax[0,idx].hlines([100],xmin=0,xmax=g.shape[1]-1,color='red',lw=2)\n",
    "    ax[1,idx].plot(np.arange(g.shape[1]),g[100])\n",
    "    ax[2,idx].plot(g[:,201],np.arange(g.shape[0]))\n",
    "    "
   ]
  },
  {
   "cell_type": "markdown",
   "id": "2c1a3b83",
   "metadata": {},
   "source": [
    "Repeat the experiment with a median filter"
   ]
  },
  {
   "cell_type": "code",
   "execution_count": null,
   "id": "98d14042",
   "metadata": {},
   "outputs": [],
   "source": []
  },
  {
   "cell_type": "markdown",
   "id": "48562d19",
   "metadata": {},
   "source": [
    "## Some advanced filters\n",
    "https://scikit-image.org/docs/stable/api/skimage.restoration.html#skimage.restoration.denoise_tv_chambolle"
   ]
  },
  {
   "cell_type": "code",
   "execution_count": null,
   "id": "a876992f",
   "metadata": {},
   "outputs": [],
   "source": [
    "import skimage.restoration as restore"
   ]
  },
  {
   "cell_type": "markdown",
   "id": "72aff6c5",
   "metadata": {},
   "source": [
    "### Bilateral filtering"
   ]
  },
  {
   "cell_type": "code",
   "execution_count": null,
   "id": "bb1fe306",
   "metadata": {},
   "outputs": [],
   "source": [
    "blf=restore.denoise_bilateral(vimg,\n",
    "                          win_size=None, \n",
    "                          sigma_color=None, \n",
    "                          sigma_spatial=1, # This is the important parameter for filter tuning\n",
    "                          bins=1000, \n",
    "                          mode='constant', \n",
    "                          cval=0);\n",
    "\n",
    "show_result(vimg,blf,\"Bilateral\")"
   ]
  },
  {
   "cell_type": "markdown",
   "id": "5f47e89b",
   "metadata": {},
   "source": [
    "### Non-local means filtering"
   ]
  },
  {
   "cell_type": "code",
   "execution_count": null,
   "id": "de805c97",
   "metadata": {},
   "outputs": [],
   "source": [
    "nl = restore.denoise_nl_means(vimg, \n",
    "                              patch_size=7, \n",
    "                              patch_distance=11, \n",
    "                              h=0.15,              # This is the important parameter for filter tuning\n",
    "                              fast_mode=True, \n",
    "                              sigma=0.0, \n",
    "                              preserve_range=False, \n",
    "                              channel_axis=None)\n",
    "\n",
    "show_result(vimg,nl,\"Non-local means\")"
   ]
  },
  {
   "cell_type": "markdown",
   "id": "4b98f3b1",
   "metadata": {},
   "source": [
    "### Wavelet filter"
   ]
  },
  {
   "cell_type": "code",
   "execution_count": null,
   "id": "f7e04665",
   "metadata": {},
   "outputs": [],
   "source": [
    "wav = restore.denoise_wavelet(vimg, \n",
    "                               sigma=None, \n",
    "                               wavelet='db1', \n",
    "                               mode='soft', \n",
    "                               wavelet_levels=None, \n",
    "                               convert2ycbcr=False, \n",
    "                               method='BayesShrink', \n",
    "                               rescale_sigma=True)\n",
    "\n",
    "show_result(vimg,wav,'Wavelet denoising')"
   ]
  },
  {
   "cell_type": "markdown",
   "id": "1c3fb2c1",
   "metadata": {},
   "source": [
    "### Total variation filter"
   ]
  },
  {
   "cell_type": "code",
   "execution_count": null,
   "id": "08930e84",
   "metadata": {},
   "outputs": [],
   "source": [
    "cham= restore.denoise_tv_chambolle(vimg, \n",
    "                           weight=0.2, \n",
    "                           eps=0.0002, \n",
    "                           max_num_iter=200)\n",
    "\n",
    "show_result(vimg,cham,'Chambolle')"
   ]
  },
  {
   "cell_type": "markdown",
   "id": "9c7e2eb4",
   "metadata": {},
   "source": [
    "## Summary"
   ]
  },
  {
   "cell_type": "code",
   "execution_count": null,
   "id": "10e33e69",
   "metadata": {},
   "outputs": [],
   "source": []
  }
 ],
 "metadata": {
  "kernelspec": {
   "display_name": "Python 3 (ipykernel)",
   "language": "python",
   "name": "python3"
  },
  "language_info": {
   "codemirror_mode": {
    "name": "ipython",
    "version": 3
   },
   "file_extension": ".py",
   "mimetype": "text/x-python",
   "name": "python",
   "nbconvert_exporter": "python",
   "pygments_lexer": "ipython3",
   "version": "3.9.7"
  }
 },
 "nbformat": 4,
 "nbformat_minor": 5
}
